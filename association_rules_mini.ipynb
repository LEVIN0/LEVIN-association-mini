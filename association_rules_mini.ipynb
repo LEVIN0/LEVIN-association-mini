{
 "cells": [
  {
   "cell_type": "code",
   "execution_count": 28,
   "id": "6e384d58",
   "metadata": {},
   "outputs": [
    {
     "name": "stdout",
     "output_type": "stream",
     "text": [
      "Transaction 1: ['Merc', 'Toyota', 'Isuzu']\n",
      "Transaction 2: ['Land Rover', 'Isuzu', 'BMW', 'Suzuki']\n",
      "Transaction 3: ['AUDI', 'BMW']\n",
      "Transaction 4: ['AUDI', 'Toyota', 'BMW', 'Suzuki']\n",
      "Transaction 5: ['Land Rover', 'Suzuki']\n",
      "Transaction 6: ['AUDI', 'Isuzu']\n",
      "Transaction 7: ['Land Rover', 'Merc', 'Isuzu', 'Suzuki']\n",
      "Transaction 8: ['AUDI', 'Volkswagen']\n",
      "Transaction 9: ['BMW', 'Merc', 'Isuzu']\n",
      "Transaction 10: ['Merc', 'Land Rover', 'BMW', 'Isuzu']\n"
     ]
    }
   ],
   "source": [
    "import pandas as pd\n",
    "import random\n",
    "from mlxtend.frequent_patterns import apriori, association_rules\n",
    "\n",
    "# Pool of items\n",
    "items = ['Toyota', 'BMW', 'AUDI', 'Merc', 'Land Rover', 'Suzuki', 'Isuzu', 'Volkswagen']\n",
    "\n",
    "# Generate 10 transactions with 2–5 items each\n",
    "random.seed(34)\n",
    "transactions = [[random.choice(items) for _ in range(random.randint(2, 5))] for _ in range(10)]\n",
    "\n",
    "# Remove duplicates in each transaction\n",
    "transactions = [list(set(t)) for t in transactions]\n",
    "\n",
    "# Display transactions\n",
    "for i, t in enumerate(transactions, 1):\n",
    "    print(f'Transaction {i}: {t}')\n"
   ]
  },
  {
   "cell_type": "code",
   "execution_count": 29,
   "id": "e95da03d",
   "metadata": {},
   "outputs": [
    {
     "name": "stdout",
     "output_type": "stream",
     "text": [
      "\n",
      "One-hot encoded transaction data:\n",
      "    AUDI    BMW  Isuzu  Land Rover   Merc  Suzuki  Toyota  Volkswagen\n",
      "0  False  False   True       False   True   False    True       False\n",
      "1  False   True   True        True  False    True   False       False\n",
      "2   True   True  False       False  False   False   False       False\n",
      "3   True   True  False       False  False    True    True       False\n",
      "4  False  False  False        True  False    True   False       False\n",
      "5   True  False   True       False  False   False   False       False\n",
      "6  False  False   True        True   True    True   False       False\n",
      "7   True  False  False       False  False   False   False        True\n",
      "8  False   True   True       False   True   False   False       False\n",
      "9  False   True   True        True   True   False   False       False\n"
     ]
    }
   ],
   "source": [
    "from mlxtend.preprocessing import TransactionEncoder\n",
    "\n",
    "# One-hot encoding\n",
    "te = TransactionEncoder()\n",
    "te_ary = te.fit(transactions).transform(transactions)\n",
    "df = pd.DataFrame(te_ary, columns=te.columns_) # converting it into a dateframe\n",
    "\n",
    "print(\"\\nOne-hot encoded transaction data:\")\n",
    "print(df)\n"
   ]
  },
  {
   "cell_type": "code",
   "execution_count": 30,
   "id": "9ee7afae",
   "metadata": {},
   "outputs": [
    {
     "name": "stdout",
     "output_type": "stream",
     "text": [
      "\n",
      "Frequent itemsets:\n",
      "   support              itemsets\n",
      "0      0.4                (AUDI)\n",
      "1      0.5                 (BMW)\n",
      "2      0.6               (Isuzu)\n",
      "3      0.4          (Land Rover)\n",
      "4      0.4                (Merc)\n",
      "5      0.4              (Suzuki)\n",
      "6      0.3          (Isuzu, BMW)\n",
      "7      0.3   (Land Rover, Isuzu)\n",
      "8      0.4         (Merc, Isuzu)\n",
      "9      0.3  (Land Rover, Suzuki)\n"
     ]
    }
   ],
   "source": [
    "# Find frequent itemsets with support >= 0.3\n",
    "frequent_itemsets = apriori(df, min_support=0.3, use_colnames=True)\n",
    "print(\"\\nFrequent itemsets:\")\n",
    "print(frequent_itemsets)\n"
   ]
  },
  {
   "cell_type": "code",
   "execution_count": 31,
   "id": "4b55a28d",
   "metadata": {},
   "outputs": [
    {
     "name": "stdout",
     "output_type": "stream",
     "text": [
      "\n",
      "Association Rules:\n",
      "    antecedents   consequents  support  confidence      lift\n",
      "0  (Land Rover)       (Isuzu)      0.3        0.75  1.250000\n",
      "1        (Merc)       (Isuzu)      0.4        1.00  1.666667\n",
      "2  (Land Rover)      (Suzuki)      0.3        0.75  1.875000\n",
      "3      (Suzuki)  (Land Rover)      0.3        0.75  1.875000\n"
     ]
    }
   ],
   "source": [
    "# Generate rules with confidence >= 0.7\n",
    "rules = association_rules(frequent_itemsets, metric=\"confidence\", min_threshold=0.7)\n",
    "print(\"\\nAssociation Rules:\")\n",
    "print(rules[['antecedents', 'consequents', 'support', 'confidence', 'lift']])\n"
   ]
  },
  {
   "cell_type": "code",
   "execution_count": 32,
   "id": "fbf6d9f0",
   "metadata": {},
   "outputs": [
    {
     "name": "stdout",
     "output_type": "stream",
     "text": [
      "\n",
      "Rule Explanation:\n",
      "If someone buys Merc, they are also likely to buy Isuzu with 1.00 confidence.\n"
     ]
    }
   ],
   "source": [
    "# Filter for Merc -> Isuzu rule \n",
    "Merc_Isuzu_rule = rules[(rules['antecedents'] == {'Merc'}) & (rules['consequents'] == {'Isuzu'})]\n",
    "\n",
    "if not Merc_Isuzu_rule.empty:\n",
    "    print(\"\\nRule Explanation:\")\n",
    "    rule = Merc_Isuzu_rule.iloc[0]\n",
    "    print(f\"If someone buys {list(rule['antecedents'])[0]}, they are also likely to buy {list(rule['consequents'])[0]} with {rule['confidence']:.2f} confidence.\")\n",
    "else:\n",
    "    print(\"\\nNo Merc → Isuzu rule found with ≥ 70% confidence.\")"
   ]
  }
 ],
 "metadata": {
  "kernelspec": {
   "display_name": "Python 3",
   "language": "python",
   "name": "python3"
  },
  "language_info": {
   "codemirror_mode": {
    "name": "ipython",
    "version": 3
   },
   "file_extension": ".py",
   "mimetype": "text/x-python",
   "name": "python",
   "nbconvert_exporter": "python",
   "pygments_lexer": "ipython3",
   "version": "3.12.10"
  }
 },
 "nbformat": 4,
 "nbformat_minor": 5
}
